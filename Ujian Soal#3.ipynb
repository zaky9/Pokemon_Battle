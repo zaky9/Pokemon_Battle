{
 "cells": [
  {
   "cell_type": "code",
   "execution_count": 9,
   "metadata": {
    "ExecuteTime": {
     "end_time": "2019-07-15T16:21:50.370613Z",
     "start_time": "2019-07-15T16:21:50.287594Z"
    }
   },
   "outputs": [
    {
     "data": {
      "text/plain": [
       "#               0\n",
       "Name            1\n",
       "Type 1          0\n",
       "Type 2        386\n",
       "HP              0\n",
       "Attack          0\n",
       "Defense         0\n",
       "Sp. Atk         0\n",
       "Sp. Def         0\n",
       "Speed           0\n",
       "Generation      0\n",
       "Legendary       0\n",
       "dtype: int64"
      ]
     },
     "execution_count": 9,
     "metadata": {},
     "output_type": "execute_result"
    }
   ],
   "source": [
    "import pandas as pd\n",
    "import numpy as np\n",
    "import matplotlib.pyplot as plt\n",
    "\n",
    "pokemon = pd.read_csv(r'C:\\Users\\User\\Desktop\\tugas no3\\Ujian_MachineLearning_JCDS04-master\\Dataset_3\\pokemon.csv')\n",
    "combats = pd.read_csv(r'C:\\Users\\User\\Desktop\\tugas no3\\Ujian_MachineLearning_JCDS04-master\\Dataset_3\\combats.csv')\n",
    "tests = pd.read_csv(r'C:\\Users\\User\\Desktop\\tugas no3\\Ujian_MachineLearning_JCDS04-master\\Dataset_3\\tests.csv')\n",
    "# pokemon.columns.values\n",
    "# pokemon.isnull().sum()"
   ]
  },
  {
   "cell_type": "code",
   "execution_count": 5,
   "metadata": {
    "ExecuteTime": {
     "end_time": "2019-07-15T16:18:59.182660Z",
     "start_time": "2019-07-15T16:18:57.511243Z"
    }
   },
   "outputs": [],
   "source": [
    "pokemon = pokemon.drop(['Type 1','Type 2','Generation','Legendary'],axis = 1)"
   ]
  },
  {
   "cell_type": "code",
   "execution_count": null,
   "metadata": {
    "ExecuteTime": {
     "end_time": "2019-07-15T16:48:56.753682Z",
     "start_time": "2019-07-15T16:48:50.797195Z"
    }
   },
   "outputs": [],
   "source": [
    "pokemon['total'] = pokemon['HP'] + pokemon['Attack'] + pokemon['Defense'] + pokemon['Sp. Atk'] + pokemon['Sp. Def'] + pokemon['Speed']\n",
    "\n",
    "# Create dict\n",
    "dictName = dict(zip(pokemon['#'], pokemon['Name']))\n",
    "dictHp = dict(zip(pokemon['#'], pokemon['HP']))\n",
    "dictAttack = dict(zip(pokemon['#'], pokemon['Attack']))\n",
    "dictDeff = dict(zip(pokemon['#'], pokemon['Defense']))\n",
    "dictSpAttack = dict(zip(pokemon['#'], pokemon['Sp. Atk']))\n",
    "dictSpDeff = dict(zip(pokemon['#'], pokemon['Sp. Def']))\n",
    "dictSpeed = dict(zip(pokemon['#'], pokemon['Speed']))\n",
    "dictSum = dict(zip(pokemon['#'], pokemon['total']))\n",
    "# pokemon.head()\n"
   ]
  },
  {
   "cell_type": "code",
   "execution_count": 44,
   "metadata": {
    "ExecuteTime": {
     "end_time": "2019-07-15T17:06:04.268090Z",
     "start_time": "2019-07-15T17:05:50.713703Z"
    }
   },
   "outputs": [],
   "source": [
    "# Create dataframe combat\n",
    "dfCombat = combats.copy()\n",
    "# first Pokemon\n",
    "dfCombat['First_pokemon_name'] = dfCombat['First_pokemon'].replace(dictName)\n",
    "dfCombat['First_pokemon_hp'] = dfCombat['First_pokemon'].replace(dictHp)\n",
    "dfCombat['First_pokemon_attack'] = dfCombat['First_pokemon'].replace(dictAttack)\n",
    "dfCombat['First_pokemon_defense'] = dfCombat['First_pokemon'].replace(dictDeff)\n",
    "dfCombat['First_pokemon_spattack'] = dfCombat['First_pokemon'].replace(dictSpAttack)\n",
    "dfCombat['First_pokemon_spdefense'] = dfCombat['First_pokemon'].replace(dictSpDeff)\n",
    "dfCombat['First_pokemon_speed'] = dfCombat['First_pokemon'].replace(dictSpeed)\n",
    "dfCombat['First_pokemon_total'] = dfCombat['First_pokemon'].replace(dictSum)\n",
    "\n",
    "# Second Pokemon\n",
    "dfCombat['Second_pokemon_name'] = dfCombat['Second_pokemon'].replace(dictName)\n",
    "dfCombat['Second_pokemon_hp'] = dfCombat['Second_pokemon'].replace(dictHp)\n",
    "dfCombat['Second_pokemon_attack'] = dfCombat['Second_pokemon'].replace(dictAttack)\n",
    "dfCombat['Second_pokemon_defense'] = dfCombat['Second_pokemon'].replace(dictDeff)\n",
    "dfCombat['Second_pokemon_spattack'] = dfCombat['Second_pokemon'].replace(dictSpAttack)\n",
    "dfCombat['Second_pokemon_spdefense'] = dfCombat['Second_pokemon'].replace(dictSpDeff)\n",
    "dfCombat['Second_pokemon_speed'] = dfCombat['Second_pokemon'].replace(dictSpeed)\n",
    "dfCombat['Second_pokemon_total'] = dfCombat['Second_pokemon'].replace(dictSum)\n",
    "\n",
    "dfCombat['First_win'] = dfCombat.apply(lambda col: 1 \n",
    "    if col['Winner'] == col['First_pokemon'] \n",
    "    else 0,\n",
    "     axis=1\n",
    ")"
   ]
  },
  {
   "cell_type": "code",
   "execution_count": 45,
   "metadata": {
    "ExecuteTime": {
     "end_time": "2019-07-15T17:06:04.752210Z",
     "start_time": "2019-07-15T17:06:04.692193Z"
    }
   },
   "outputs": [
    {
     "data": {
      "text/html": [
       "<div>\n",
       "<style scoped>\n",
       "    .dataframe tbody tr th:only-of-type {\n",
       "        vertical-align: middle;\n",
       "    }\n",
       "\n",
       "    .dataframe tbody tr th {\n",
       "        vertical-align: top;\n",
       "    }\n",
       "\n",
       "    .dataframe thead th {\n",
       "        text-align: right;\n",
       "    }\n",
       "</style>\n",
       "<table border=\"1\" class=\"dataframe\">\n",
       "  <thead>\n",
       "    <tr style=\"text-align: right;\">\n",
       "      <th></th>\n",
       "      <th>First_pokemon</th>\n",
       "      <th>Second_pokemon</th>\n",
       "      <th>Winner</th>\n",
       "      <th>First_pokemon_name</th>\n",
       "      <th>First_pokemon_hp</th>\n",
       "      <th>First_pokemon_attack</th>\n",
       "      <th>First_pokemon_defense</th>\n",
       "      <th>First_pokemon_spattack</th>\n",
       "      <th>First_pokemon_spdefense</th>\n",
       "      <th>First_pokemon_speed</th>\n",
       "      <th>First_pokemon_total</th>\n",
       "      <th>Second_pokemon_name</th>\n",
       "      <th>Second_pokemon_hp</th>\n",
       "      <th>Second_pokemon_attack</th>\n",
       "      <th>Second_pokemon_defense</th>\n",
       "      <th>Second_pokemon_spattack</th>\n",
       "      <th>Second_pokemon_spdefense</th>\n",
       "      <th>Second_pokemon_speed</th>\n",
       "      <th>Second_pokemon_total</th>\n",
       "      <th>First_win</th>\n",
       "    </tr>\n",
       "  </thead>\n",
       "  <tbody>\n",
       "    <tr>\n",
       "      <th>0</th>\n",
       "      <td>266</td>\n",
       "      <td>298</td>\n",
       "      <td>298</td>\n",
       "      <td>Larvitar</td>\n",
       "      <td>50</td>\n",
       "      <td>64</td>\n",
       "      <td>50</td>\n",
       "      <td>45</td>\n",
       "      <td>50</td>\n",
       "      <td>41</td>\n",
       "      <td>300</td>\n",
       "      <td>Nuzleaf</td>\n",
       "      <td>70</td>\n",
       "      <td>70</td>\n",
       "      <td>40</td>\n",
       "      <td>60</td>\n",
       "      <td>40</td>\n",
       "      <td>60</td>\n",
       "      <td>340</td>\n",
       "      <td>0</td>\n",
       "    </tr>\n",
       "    <tr>\n",
       "      <th>1</th>\n",
       "      <td>702</td>\n",
       "      <td>701</td>\n",
       "      <td>701</td>\n",
       "      <td>Virizion</td>\n",
       "      <td>91</td>\n",
       "      <td>90</td>\n",
       "      <td>72</td>\n",
       "      <td>90</td>\n",
       "      <td>129</td>\n",
       "      <td>108</td>\n",
       "      <td>580</td>\n",
       "      <td>Terrakion</td>\n",
       "      <td>91</td>\n",
       "      <td>129</td>\n",
       "      <td>90</td>\n",
       "      <td>72</td>\n",
       "      <td>90</td>\n",
       "      <td>108</td>\n",
       "      <td>580</td>\n",
       "      <td>0</td>\n",
       "    </tr>\n",
       "    <tr>\n",
       "      <th>2</th>\n",
       "      <td>191</td>\n",
       "      <td>668</td>\n",
       "      <td>668</td>\n",
       "      <td>Togetic</td>\n",
       "      <td>55</td>\n",
       "      <td>40</td>\n",
       "      <td>85</td>\n",
       "      <td>80</td>\n",
       "      <td>105</td>\n",
       "      <td>40</td>\n",
       "      <td>405</td>\n",
       "      <td>Beheeyem</td>\n",
       "      <td>75</td>\n",
       "      <td>75</td>\n",
       "      <td>75</td>\n",
       "      <td>125</td>\n",
       "      <td>95</td>\n",
       "      <td>40</td>\n",
       "      <td>485</td>\n",
       "      <td>0</td>\n",
       "    </tr>\n",
       "    <tr>\n",
       "      <th>3</th>\n",
       "      <td>237</td>\n",
       "      <td>683</td>\n",
       "      <td>683</td>\n",
       "      <td>Slugma</td>\n",
       "      <td>40</td>\n",
       "      <td>40</td>\n",
       "      <td>40</td>\n",
       "      <td>70</td>\n",
       "      <td>40</td>\n",
       "      <td>20</td>\n",
       "      <td>250</td>\n",
       "      <td>Druddigon</td>\n",
       "      <td>77</td>\n",
       "      <td>120</td>\n",
       "      <td>90</td>\n",
       "      <td>60</td>\n",
       "      <td>90</td>\n",
       "      <td>48</td>\n",
       "      <td>485</td>\n",
       "      <td>0</td>\n",
       "    </tr>\n",
       "    <tr>\n",
       "      <th>4</th>\n",
       "      <td>151</td>\n",
       "      <td>231</td>\n",
       "      <td>151</td>\n",
       "      <td>Omastar</td>\n",
       "      <td>70</td>\n",
       "      <td>60</td>\n",
       "      <td>125</td>\n",
       "      <td>115</td>\n",
       "      <td>70</td>\n",
       "      <td>55</td>\n",
       "      <td>495</td>\n",
       "      <td>Shuckle</td>\n",
       "      <td>20</td>\n",
       "      <td>10</td>\n",
       "      <td>230</td>\n",
       "      <td>10</td>\n",
       "      <td>230</td>\n",
       "      <td>5</td>\n",
       "      <td>505</td>\n",
       "      <td>1</td>\n",
       "    </tr>\n",
       "  </tbody>\n",
       "</table>\n",
       "</div>"
      ],
      "text/plain": [
       "   First_pokemon  Second_pokemon  Winner First_pokemon_name  First_pokemon_hp  \\\n",
       "0            266             298     298           Larvitar                50   \n",
       "1            702             701     701           Virizion                91   \n",
       "2            191             668     668            Togetic                55   \n",
       "3            237             683     683             Slugma                40   \n",
       "4            151             231     151            Omastar                70   \n",
       "\n",
       "   First_pokemon_attack  First_pokemon_defense  First_pokemon_spattack  \\\n",
       "0                    64                     50                      45   \n",
       "1                    90                     72                      90   \n",
       "2                    40                     85                      80   \n",
       "3                    40                     40                      70   \n",
       "4                    60                    125                     115   \n",
       "\n",
       "   First_pokemon_spdefense  First_pokemon_speed  First_pokemon_total  \\\n",
       "0                       50                   41                  300   \n",
       "1                      129                  108                  580   \n",
       "2                      105                   40                  405   \n",
       "3                       40                   20                  250   \n",
       "4                       70                   55                  495   \n",
       "\n",
       "  Second_pokemon_name  Second_pokemon_hp  Second_pokemon_attack  \\\n",
       "0             Nuzleaf                 70                     70   \n",
       "1           Terrakion                 91                    129   \n",
       "2            Beheeyem                 75                     75   \n",
       "3           Druddigon                 77                    120   \n",
       "4             Shuckle                 20                     10   \n",
       "\n",
       "   Second_pokemon_defense  Second_pokemon_spattack  Second_pokemon_spdefense  \\\n",
       "0                      40                       60                        40   \n",
       "1                      90                       72                        90   \n",
       "2                      75                      125                        95   \n",
       "3                      90                       60                        90   \n",
       "4                     230                       10                       230   \n",
       "\n",
       "   Second_pokemon_speed  Second_pokemon_total  First_win  \n",
       "0                    60                   340          0  \n",
       "1                   108                   580          0  \n",
       "2                    40                   485          0  \n",
       "3                    48                   485          0  \n",
       "4                     5                   505          1  "
      ]
     },
     "execution_count": 45,
     "metadata": {},
     "output_type": "execute_result"
    }
   ],
   "source": [
    "dfCombat.head()"
   ]
  },
  {
   "cell_type": "code",
   "execution_count": 46,
   "metadata": {
    "ExecuteTime": {
     "end_time": "2019-07-15T17:06:08.600166Z",
     "start_time": "2019-07-15T17:06:05.054285Z"
    }
   },
   "outputs": [],
   "source": [
    "# Create feature X and target Y\n",
    "\n",
    "X = dfCombat.drop(['First_pokemon', 'First_pokemon_name', 'Second_pokemon', 'Second_pokemon_name', 'Winner', 'First_win'], axis=1)\n",
    "Y = dfCombat['First_win']\n",
    "\n",
    "\n",
    "from sklearn.model_selection import train_test_split\n",
    "X_train, X_test, Y_train, Y_test = train_test_split(\n",
    "    X, \n",
    "    Y, \n",
    "    test_size=0.7, \n",
    "    random_state=10\n",
    ")"
   ]
  },
  {
   "cell_type": "code",
   "execution_count": 47,
   "metadata": {
    "ExecuteTime": {
     "end_time": "2019-07-15T17:07:33.484716Z",
     "start_time": "2019-07-15T17:07:32.896569Z"
    }
   },
   "outputs": [
    {
     "data": {
      "text/plain": [
       "DecisionTreeClassifier(class_weight=None, criterion='gini', max_depth=None,\n",
       "                       max_features=None, max_leaf_nodes=None,\n",
       "                       min_impurity_decrease=0.0, min_impurity_split=None,\n",
       "                       min_samples_leaf=1, min_samples_split=2,\n",
       "                       min_weight_fraction_leaf=0.0, presort=False,\n",
       "                       random_state=None, splitter='best')"
      ]
     },
     "execution_count": 47,
     "metadata": {},
     "output_type": "execute_result"
    }
   ],
   "source": [
    "# Decision Trees\n",
    "from sklearn import tree\n",
    "modelDT = tree.DecisionTreeClassifier()\n",
    "modelDT.fit(X_train, Y_train)"
   ]
  },
  {
   "cell_type": "code",
   "execution_count": 49,
   "metadata": {
    "ExecuteTime": {
     "end_time": "2019-07-15T17:11:07.319941Z",
     "start_time": "2019-07-15T17:11:07.292934Z"
    }
   },
   "outputs": [
    {
     "data": {
      "text/plain": [
       "['pokeModelDT']"
      ]
     },
     "execution_count": 49,
     "metadata": {},
     "output_type": "execute_result"
    }
   ],
   "source": [
    "import joblib\n",
    "joblib.dump(modelDT, 'pokeModelDT')"
   ]
  },
  {
   "cell_type": "code",
   "execution_count": null,
   "metadata": {},
   "outputs": [],
   "source": []
  }
 ],
 "metadata": {
  "hide_input": false,
  "kernelspec": {
   "display_name": "Python 3",
   "language": "python",
   "name": "python3"
  },
  "language_info": {
   "codemirror_mode": {
    "name": "ipython",
    "version": 3
   },
   "file_extension": ".py",
   "mimetype": "text/x-python",
   "name": "python",
   "nbconvert_exporter": "python",
   "pygments_lexer": "ipython3",
   "version": "3.7.3"
  },
  "toc": {
   "base_numbering": 1,
   "nav_menu": {},
   "number_sections": true,
   "sideBar": true,
   "skip_h1_title": false,
   "title_cell": "Table of Contents",
   "title_sidebar": "Contents",
   "toc_cell": false,
   "toc_position": {},
   "toc_section_display": true,
   "toc_window_display": false
  },
  "varInspector": {
   "cols": {
    "lenName": 16,
    "lenType": 16,
    "lenVar": 40
   },
   "kernels_config": {
    "python": {
     "delete_cmd_postfix": "",
     "delete_cmd_prefix": "del ",
     "library": "var_list.py",
     "varRefreshCmd": "print(var_dic_list())"
    },
    "r": {
     "delete_cmd_postfix": ") ",
     "delete_cmd_prefix": "rm(",
     "library": "var_list.r",
     "varRefreshCmd": "cat(var_dic_list()) "
    }
   },
   "types_to_exclude": [
    "module",
    "function",
    "builtin_function_or_method",
    "instance",
    "_Feature"
   ],
   "window_display": false
  }
 },
 "nbformat": 4,
 "nbformat_minor": 2
}
